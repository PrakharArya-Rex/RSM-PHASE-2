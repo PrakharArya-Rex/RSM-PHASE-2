{
 "cells": [
  {
   "cell_type": "code",
   "execution_count": 2,
   "id": "d3be32f4",
   "metadata": {},
   "outputs": [
    {
     "name": "stdout",
     "output_type": "stream",
     "text": [
      "Downloading data from https://storage.googleapis.com/tensorflow/tf-keras-datasets/mnist.npz\n",
      "11490434/11490434 [==============================] - 13s 1us/step\n"
     ]
    }
   ],
   "source": [
    "import pickle\n",
    "import numpy as np\n",
    "import pandas as pd\n",
    "from matplotlib import pyplot as plt\n",
    "import time\n",
    "from keras.datasets import mnist\n",
    "\n",
    "(train_X, train_y), (test_X, test_y) = mnist.load_data()"
   ]
  },
  {
   "cell_type": "code",
   "execution_count": 27,
   "id": "7d47b8a1",
   "metadata": {},
   "outputs": [
    {
     "data": {
      "text/plain": [
       "(60000, 28, 28)"
      ]
     },
     "execution_count": 27,
     "metadata": {},
     "output_type": "execute_result"
    }
   ],
   "source": [
    "train_X.shape"
   ]
  },
  {
   "cell_type": "code",
   "execution_count": 28,
   "id": "5a2b0a84",
   "metadata": {},
   "outputs": [],
   "source": [
    "x0_set=[]\n",
    "for i in range(60000):\n",
    "    x0_set.append([])\n",
    "    for j in range(28):\n",
    "        for k in range (28):\n",
    "            x0_set[i].append(train_X[i][j][k])\n",
    "            \n",
    "x1_set=[]\n",
    "for i in range(10000):\n",
    "    x1_set.append([])\n",
    "    for j in range(28):\n",
    "        for k in range (28):\n",
    "            x1_set[i].append(test_X[i][j][k])"
   ]
  },
  {
   "cell_type": "code",
   "execution_count": 33,
   "id": "f2c84c36",
   "metadata": {},
   "outputs": [
    {
     "data": {
      "text/plain": [
       "(60000, 784)"
      ]
     },
     "execution_count": 33,
     "metadata": {},
     "output_type": "execute_result"
    }
   ],
   "source": [
    "x0_set=np.array(x0_set)\n",
    "x0_set.shape"
   ]
  },
  {
   "cell_type": "code",
   "execution_count": 34,
   "id": "f2589ecf",
   "metadata": {},
   "outputs": [
    {
     "data": {
      "text/plain": [
       "(10000, 784)"
      ]
     },
     "execution_count": 34,
     "metadata": {},
     "output_type": "execute_result"
    }
   ],
   "source": [
    "x1_set=np.array(x1_set)\n",
    "x1_set.shape"
   ]
  },
  {
   "cell_type": "code",
   "execution_count": 36,
   "id": "8fb6db25",
   "metadata": {},
   "outputs": [
    {
     "data": {
      "text/plain": [
       "(10000,)"
      ]
     },
     "execution_count": 36,
     "metadata": {},
     "output_type": "execute_result"
    }
   ],
   "source": [
    "test_y.shape"
   ]
  },
  {
   "cell_type": "code",
   "execution_count": 38,
   "id": "3b622343",
   "metadata": {},
   "outputs": [],
   "source": [
    "def shuffle_in_unison(a, b):\n",
    "    assert len(a) == len(b)\n",
    "    shuffled_a = np.empty(a.shape, dtype=a.dtype)\n",
    "    shuffled_b = np.empty(b.shape, dtype=b.dtype)\n",
    "    permutation = np.random.permutation(len(a))\n",
    "    for old_index, new_index in enumerate(permutation):\n",
    "        shuffled_a[new_index] = a[old_index]\n",
    "        shuffled_b[new_index] = b[old_index]\n",
    "    return shuffled_a, shuffled_b\n",
    "\n",
    "a1_set, b1_set = shuffle_in_unison(x0_set, train_y) # shuffle before splitting into dev and training sets\n",
    "a2_set, b2_set = shuffle_in_unison(x1_set, test_y)\n",
    "\n",
    "X_test = a1_set/255.\n",
    "Y_test = b1_set/1.\n",
    "\n",
    "X_train = a2_set/255.\n",
    "Y_train = b2_set/1."
   ]
  },
  {
   "cell_type": "code",
   "execution_count": 39,
   "id": "6ec0cc34",
   "metadata": {},
   "outputs": [
    {
     "data": {
      "text/plain": [
       "array([0., 1., 0., 0., 0., 0., 0., 0., 0., 0.])"
      ]
     },
     "execution_count": 39,
     "metadata": {},
     "output_type": "execute_result"
    }
   ],
   "source": [
    "y_test=[]\n",
    "for i in Y_test:\n",
    "    if i==0:\n",
    "        y_test.append([1, 0, 0, 0, 0, 0, 0, 0, 0, 0])\n",
    "    elif i==1:\n",
    "        y_test.append([0, 1, 0, 0, 0, 0, 0, 0, 0, 0])\n",
    "    elif i==2:\n",
    "        y_test.append([0, 0, 1, 0, 0, 0, 0, 0, 0, 0])\n",
    "    elif i==3:\n",
    "        y_test.append([0, 0, 0, 1, 0, 0, 0, 0, 0, 0])\n",
    "    elif i==4:\n",
    "        y_test.append([0, 0, 0, 0, 1, 0, 0, 0, 0, 0])\n",
    "    elif i==5:\n",
    "        y_test.append([0, 0, 0, 0, 0, 1, 0, 0, 0, 0])\n",
    "    elif i==6:\n",
    "        y_test.append([0, 0, 0, 0, 0, 0, 1, 0, 0, 0])\n",
    "    elif i==7:\n",
    "        y_test.append([0, 0, 0, 0, 0, 0, 0, 1, 0, 0])\n",
    "    elif i==8:\n",
    "        y_test.append([0, 0, 0, 0, 0, 0, 0, 0, 1, 0])\n",
    "    elif i==9:\n",
    "        y_test.append([0, 0, 0, 0, 0, 0, 0, 0, 0, 1])\n",
    "y_test=np.array(y_test)\n",
    "y_test=y_test/1.\n",
    "\n",
    "y_train=[]\n",
    "for i in Y_train:\n",
    "    if i==0:\n",
    "        y_train.append([1, 0, 0, 0, 0, 0, 0, 0, 0, 0])\n",
    "    elif i==1:\n",
    "        y_train.append([0, 1, 0, 0, 0, 0, 0, 0, 0, 0])\n",
    "    elif i==2:\n",
    "        y_train.append([0, 0, 1, 0, 0, 0, 0, 0, 0, 0])\n",
    "    elif i==3:\n",
    "        y_train.append([0, 0, 0, 1, 0, 0, 0, 0, 0, 0])\n",
    "    elif i==4:\n",
    "        y_train.append([0, 0, 0, 0, 1, 0, 0, 0, 0, 0])\n",
    "    elif i==5:\n",
    "        y_train.append([0, 0, 0, 0, 0, 1, 0, 0, 0, 0])\n",
    "    elif i==6:\n",
    "        y_train.append([0, 0, 0, 0, 0, 0, 1, 0, 0, 0])\n",
    "    elif i==7:\n",
    "        y_train.append([0, 0, 0, 0, 0, 0, 0, 1, 0, 0])\n",
    "    elif i==8:\n",
    "        y_train.append([0, 0, 0, 0, 0, 0, 0, 0, 1, 0])\n",
    "    elif i==9:\n",
    "        y_train.append([0, 0, 0, 0, 0, 0, 0, 0, 0, 1])\n",
    "y_train=np.array(y_train)\n",
    "y_train=y_train/1.\n",
    "\n",
    "\n",
    "y_test[100]"
   ]
  },
  {
   "cell_type": "code",
   "execution_count": 40,
   "id": "c7d38182",
   "metadata": {},
   "outputs": [
    {
     "name": "stdout",
     "output_type": "stream",
     "text": [
      "(10000, 784)\n"
     ]
    },
    {
     "data": {
      "text/plain": [
       "array([0.        , 0.        , 0.        , 0.        , 0.        ,\n",
       "       0.        , 0.        , 0.        , 0.        , 0.        ,\n",
       "       0.        , 0.        , 0.        , 0.        , 0.        ,\n",
       "       0.        , 0.        , 0.        , 0.        , 0.        ,\n",
       "       0.        , 0.        , 0.        , 0.        , 0.        ,\n",
       "       0.        , 0.        , 0.        , 0.        , 0.        ,\n",
       "       0.        , 0.        , 0.        , 0.        , 0.        ,\n",
       "       0.        , 0.        , 0.        , 0.        , 0.        ,\n",
       "       0.        , 0.        , 0.        , 0.        , 0.        ,\n",
       "       0.        , 0.        , 0.        , 0.        , 0.        ,\n",
       "       0.        , 0.        , 0.        , 0.        , 0.        ,\n",
       "       0.        , 0.        , 0.        , 0.        , 0.        ,\n",
       "       0.        , 0.        , 0.        , 0.        , 0.        ,\n",
       "       0.        , 0.        , 0.        , 0.        , 0.        ,\n",
       "       0.        , 0.        , 0.        , 0.        , 0.        ,\n",
       "       0.        , 0.        , 0.        , 0.        , 0.        ,\n",
       "       0.        , 0.        , 0.        , 0.        , 0.        ,\n",
       "       0.        , 0.        , 0.        , 0.        , 0.        ,\n",
       "       0.        , 0.        , 0.        , 0.        , 0.        ,\n",
       "       0.0745098 , 0.50588235, 0.77647059, 0.37647059, 0.05490196,\n",
       "       0.        , 0.        , 0.        , 0.        , 0.        ,\n",
       "       0.        , 0.        , 0.        , 0.        , 0.        ,\n",
       "       0.        , 0.        , 0.        , 0.        , 0.        ,\n",
       "       0.        , 0.        , 0.        , 0.        , 0.        ,\n",
       "       0.        , 0.        , 0.        , 0.54117647, 0.99607843,\n",
       "       0.99607843, 0.99607843, 0.77254902, 0.0627451 , 0.        ,\n",
       "       0.        , 0.        , 0.        , 0.        , 0.        ,\n",
       "       0.        , 0.        , 0.        , 0.        , 0.        ,\n",
       "       0.        , 0.        , 0.        , 0.        , 0.        ,\n",
       "       0.        , 0.        , 0.        , 0.        , 0.        ,\n",
       "       0.        , 0.89803922, 0.99607843, 0.78039216, 0.2       ,\n",
       "       0.02745098, 0.        , 0.        , 0.        , 0.        ,\n",
       "       0.        , 0.        , 0.        , 0.        , 0.        ,\n",
       "       0.        , 0.        , 0.        , 0.        , 0.        ,\n",
       "       0.        , 0.        , 0.        , 0.        , 0.        ,\n",
       "       0.        , 0.        , 0.        , 0.14901961, 0.96078431,\n",
       "       0.94117647, 0.11372549, 0.        , 0.        , 0.        ,\n",
       "       0.        , 0.        , 0.        , 0.        , 0.        ,\n",
       "       0.        , 0.        , 0.        , 0.        , 0.        ,\n",
       "       0.        , 0.        , 0.        , 0.        , 0.        ,\n",
       "       0.        , 0.        , 0.        , 0.        , 0.        ,\n",
       "       0.        , 0.23921569, 0.99607843, 0.79215686, 0.        ,\n",
       "       0.        , 0.        , 0.        , 0.        , 0.        ,\n",
       "       0.        , 0.        , 0.        , 0.        , 0.        ,\n",
       "       0.        , 0.        , 0.        , 0.        , 0.        ,\n",
       "       0.        , 0.        , 0.        , 0.        , 0.        ,\n",
       "       0.        , 0.        , 0.        , 0.        , 0.63137255,\n",
       "       0.99607843, 0.48627451, 0.        , 0.        , 0.        ,\n",
       "       0.        , 0.        , 0.        , 0.        , 0.        ,\n",
       "       0.        , 0.        , 0.        , 0.        , 0.        ,\n",
       "       0.        , 0.        , 0.        , 0.        , 0.        ,\n",
       "       0.        , 0.        , 0.        , 0.        , 0.        ,\n",
       "       0.        , 0.        , 0.91764706, 0.99607843, 0.26666667,\n",
       "       0.        , 0.        , 0.        , 0.        , 0.        ,\n",
       "       0.        , 0.        , 0.        , 0.        , 0.        ,\n",
       "       0.        , 0.        , 0.        , 0.        , 0.        ,\n",
       "       0.        , 0.        , 0.        , 0.        , 0.        ,\n",
       "       0.        , 0.        , 0.        , 0.        , 0.        ,\n",
       "       0.91764706, 0.99607843, 0.11764706, 0.        , 0.        ,\n",
       "       0.        , 0.        , 0.        , 0.        , 0.        ,\n",
       "       0.        , 0.        , 0.        , 0.        , 0.        ,\n",
       "       0.        , 0.        , 0.        , 0.        , 0.        ,\n",
       "       0.        , 0.        , 0.        , 0.        , 0.        ,\n",
       "       0.        , 0.        , 0.        , 0.91764706, 0.99607843,\n",
       "       0.28235294, 0.48235294, 0.5254902 , 0.5254902 , 0.48235294,\n",
       "       0.10196078, 0.        , 0.        , 0.        , 0.        ,\n",
       "       0.        , 0.        , 0.        , 0.        , 0.        ,\n",
       "       0.        , 0.        , 0.        , 0.        , 0.        ,\n",
       "       0.        , 0.        , 0.        , 0.        , 0.        ,\n",
       "       0.        , 0.91764706, 0.99607843, 0.99607843, 0.99607843,\n",
       "       0.99607843, 0.99607843, 0.99607843, 0.89019608, 0.17254902,\n",
       "       0.        , 0.        , 0.        , 0.        , 0.        ,\n",
       "       0.        , 0.        , 0.        , 0.        , 0.        ,\n",
       "       0.        , 0.        , 0.        , 0.        , 0.        ,\n",
       "       0.        , 0.        , 0.        , 0.        , 0.91764706,\n",
       "       0.99607843, 0.99607843, 0.86666667, 0.87058824, 0.87058824,\n",
       "       0.74901961, 0.99607843, 0.89019608, 0.11764706, 0.        ,\n",
       "       0.        , 0.        , 0.        , 0.        , 0.        ,\n",
       "       0.        , 0.        , 0.        , 0.        , 0.        ,\n",
       "       0.        , 0.        , 0.        , 0.        , 0.        ,\n",
       "       0.        , 0.        , 0.91764706, 0.99607843, 0.27843137,\n",
       "       0.02745098, 0.03137255, 0.03137255, 0.02745098, 0.67058824,\n",
       "       0.99607843, 0.23529412, 0.        , 0.        , 0.        ,\n",
       "       0.        , 0.        , 0.        , 0.        , 0.        ,\n",
       "       0.        , 0.        , 0.        , 0.        , 0.        ,\n",
       "       0.        , 0.        , 0.        , 0.        , 0.        ,\n",
       "       0.91764706, 0.99607843, 0.15686275, 0.        , 0.        ,\n",
       "       0.        , 0.        , 0.61176471, 0.99607843, 0.50588235,\n",
       "       0.        , 0.        , 0.        , 0.        , 0.        ,\n",
       "       0.        , 0.        , 0.        , 0.        , 0.        ,\n",
       "       0.        , 0.        , 0.        , 0.        , 0.        ,\n",
       "       0.        , 0.        , 0.        , 0.61568627, 0.99607843,\n",
       "       0.49411765, 0.        , 0.        , 0.        , 0.29411765,\n",
       "       0.95294118, 0.99607843, 0.30980392, 0.        , 0.        ,\n",
       "       0.        , 0.        , 0.        , 0.        , 0.        ,\n",
       "       0.        , 0.        , 0.        , 0.        , 0.        ,\n",
       "       0.        , 0.        , 0.        , 0.        , 0.        ,\n",
       "       0.        , 0.23921569, 0.99607843, 0.79215686, 0.        ,\n",
       "       0.        , 0.06666667, 0.89411765, 0.99607843, 0.9254902 ,\n",
       "       0.1372549 , 0.        , 0.        , 0.        , 0.        ,\n",
       "       0.        , 0.        , 0.        , 0.        , 0.        ,\n",
       "       0.        , 0.        , 0.        , 0.        , 0.        ,\n",
       "       0.        , 0.        , 0.        , 0.        , 0.0627451 ,\n",
       "       0.9254902 , 0.94509804, 0.10196078, 0.01176471, 0.67058824,\n",
       "       0.99607843, 0.99607843, 0.41960784, 0.        , 0.        ,\n",
       "       0.        , 0.        , 0.        , 0.        , 0.        ,\n",
       "       0.        , 0.        , 0.        , 0.        , 0.        ,\n",
       "       0.        , 0.        , 0.        , 0.        , 0.        ,\n",
       "       0.        , 0.        , 0.        , 0.74901961, 0.99607843,\n",
       "       0.41176471, 0.6745098 , 0.99607843, 0.99607843, 0.93333333,\n",
       "       0.13333333, 0.        , 0.        , 0.        , 0.        ,\n",
       "       0.        , 0.        , 0.        , 0.        , 0.        ,\n",
       "       0.        , 0.        , 0.        , 0.        , 0.        ,\n",
       "       0.        , 0.        , 0.        , 0.        , 0.        ,\n",
       "       0.        , 0.14117647, 0.95294118, 0.99607843, 0.99607843,\n",
       "       0.99607843, 0.99215686, 0.29411765, 0.        , 0.        ,\n",
       "       0.        , 0.        , 0.        , 0.        , 0.        ,\n",
       "       0.        , 0.        , 0.        , 0.        , 0.        ,\n",
       "       0.        , 0.        , 0.        , 0.        , 0.        ,\n",
       "       0.        , 0.        , 0.        , 0.        , 0.        ,\n",
       "       0.63529412, 0.99607843, 0.99607843, 0.99607843, 0.50196078,\n",
       "       0.        , 0.        , 0.        , 0.        , 0.        ,\n",
       "       0.        , 0.        , 0.        , 0.        , 0.        ,\n",
       "       0.        , 0.        , 0.        , 0.        , 0.        ,\n",
       "       0.        , 0.        , 0.        , 0.        , 0.        ,\n",
       "       0.        , 0.        , 0.        , 0.        , 0.56862745,\n",
       "       0.94901961, 0.50196078, 0.        , 0.        , 0.        ,\n",
       "       0.        , 0.        , 0.        , 0.        , 0.        ,\n",
       "       0.        , 0.        , 0.        , 0.        , 0.        ,\n",
       "       0.        , 0.        , 0.        , 0.        , 0.        ,\n",
       "       0.        , 0.        , 0.        , 0.        , 0.        ,\n",
       "       0.        , 0.        , 0.        , 0.        , 0.        ,\n",
       "       0.        , 0.        , 0.        , 0.        , 0.        ,\n",
       "       0.        , 0.        , 0.        , 0.        , 0.        ,\n",
       "       0.        , 0.        , 0.        , 0.        , 0.        ,\n",
       "       0.        , 0.        , 0.        , 0.        , 0.        ,\n",
       "       0.        , 0.        , 0.        , 0.        , 0.        ,\n",
       "       0.        , 0.        , 0.        , 0.        , 0.        ,\n",
       "       0.        , 0.        , 0.        , 0.        , 0.        ,\n",
       "       0.        , 0.        , 0.        , 0.        , 0.        ,\n",
       "       0.        , 0.        , 0.        , 0.        , 0.        ,\n",
       "       0.        , 0.        , 0.        , 0.        , 0.        ,\n",
       "       0.        , 0.        , 0.        , 0.        , 0.        ,\n",
       "       0.        , 0.        , 0.        , 0.        , 0.        ,\n",
       "       0.        , 0.        , 0.        , 0.        , 0.        ,\n",
       "       0.        , 0.        , 0.        , 0.        , 0.        ,\n",
       "       0.        , 0.        , 0.        , 0.        , 0.        ,\n",
       "       0.        , 0.        , 0.        , 0.        , 0.        ,\n",
       "       0.        , 0.        , 0.        , 0.        , 0.        ,\n",
       "       0.        , 0.        , 0.        , 0.        , 0.        ,\n",
       "       0.        , 0.        , 0.        , 0.        , 0.        ,\n",
       "       0.        , 0.        , 0.        , 0.        , 0.        ,\n",
       "       0.        , 0.        , 0.        , 0.        , 0.        ,\n",
       "       0.        , 0.        , 0.        , 0.        , 0.        ,\n",
       "       0.        , 0.        , 0.        , 0.        , 0.        ,\n",
       "       0.        , 0.        , 0.        , 0.        , 0.        ,\n",
       "       0.        , 0.        , 0.        , 0.        ])"
      ]
     },
     "execution_count": 40,
     "metadata": {},
     "output_type": "execute_result"
    }
   ],
   "source": [
    "print(X_train.shape)\n",
    "X_test[200]"
   ]
  },
  {
   "cell_type": "code",
   "execution_count": 41,
   "id": "23fc641d",
   "metadata": {},
   "outputs": [
    {
     "data": {
      "text/plain": [
       "<matplotlib.image.AxesImage at 0x164d227a760>"
      ]
     },
     "execution_count": 41,
     "metadata": {},
     "output_type": "execute_result"
    },
    {
     "data": {
      "image/png": "[encoded data removed]",
      "text/plain": [
       "<Figure size 432x288 with 1 Axes>"
      ]
     },
     "metadata": {
      "needs_background": "light"
     },
     "output_type": "display_data"
    }
   ],
   "source": [
    "import matplotlib\n",
    "a=X_train[500]\n",
    "image_array = np.asfarray(a).reshape((28,28))\n",
    "matplotlib.pyplot.imshow(image_array, cmap='Reds', interpolation='None')"
   ]
  },
  {
   "cell_type": "code",
   "execution_count": 42,
   "id": "b5466bb8",
   "metadata": {},
   "outputs": [
    {
     "data": {
      "text/plain": [
       "<matplotlib.image.AxesImage at 0x164d2346610>"
      ]
     },
     "execution_count": 42,
     "metadata": {},
     "output_type": "execute_result"
    },
    {
     "data": {
      "image/png": "[encoded data removed]",
      "text/plain": [
       "<Figure size 432x288 with 1 Axes>"
      ]
     },
     "metadata": {
      "needs_background": "light"
     },
     "output_type": "display_data"
    }
   ],
   "source": [
    "import matplotlib\n",
    "a=X_train[388]\n",
    "image_array = np.asfarray(a).reshape((28,28))\n",
    "matplotlib.pyplot.imshow(image_array, cmap='Reds', interpolation='None')"
   ]
  },
  {
   "cell_type": "code",
   "execution_count": 43,
   "id": "7925fdcc",
   "metadata": {},
   "outputs": [],
   "source": [
    "def accuracy(y_true, y_pred):\n",
    "  ### Returns accuracy ###\n",
    "  return np.sum(y_true == y_pred, axis = 0) / len(y_true)"
   ]
  },
  {
   "cell_type": "code",
   "execution_count": 44,
   "id": "7768228c",
   "metadata": {},
   "outputs": [],
   "source": [
    "n_input_dim = 28*28 # 784\n",
    "n_out = 10 # 10 classes"
   ]
  },
  {
   "cell_type": "code",
   "execution_count": 45,
   "id": "f96673e2",
   "metadata": {},
   "outputs": [],
   "source": [
    "def batch_loader(X, y = None, batch_size=64):\n",
    "  \"\"\" Generates batches for training\"\"\"\n",
    "  n_samples = X.shape[0]\n",
    "  for i in np.arange(0, n_samples, batch_size):\n",
    "    begin, end = i, min(i + batch_size, n_samples)\n",
    "    if y is not None:\n",
    "      yield X[begin:end], y[begin: end]\n",
    "    else:\n",
    "      yield X[begin:end]"
   ]
  },
  {
   "cell_type": "code",
   "execution_count": 46,
   "id": "eae8b59b",
   "metadata": {},
   "outputs": [],
   "source": [
    "class CrossEntropy():\n",
    "  def __init__(self): pass\n",
    "\n",
    "  def loss(self, y, p):\n",
    "    p = np.clip(p, 1e-15, 1- 1e-15)\n",
    "    return -y*np.log(p) - (1 - y) * np.log(1- p)\n",
    "  \n",
    "  def gradient(self, y, p):\n",
    "    p = np.clip(p, 1e-15, 1- 1e-15)\n",
    "    return -(y/p) + (1 - y) / (1 - p)"
   ]
  },
  {
   "cell_type": "code",
   "execution_count": 47,
   "id": "276e5e40",
   "metadata": {},
   "outputs": [],
   "source": [
    "class LeakyReLU():\n",
    "  def __init__(self, alpha = 0.2):\n",
    "    self.alpha = alpha\n",
    "  \n",
    "  def __call__(self, x):\n",
    "    return self.activation(x)\n",
    "  \n",
    "  def activation(self, x):\n",
    "    return np.where(x >= 0, x, self.alpha * x)\n",
    "  \n",
    "  def gradient(self, x):\n",
    "    return np.where(x >= 0, 1, self.alpha)"
   ]
  },
  {
   "cell_type": "code",
   "execution_count": 48,
   "id": "1a8975ac",
   "metadata": {},
   "outputs": [],
   "source": [
    "class Softmax():\n",
    "  def __init__(self): pass\n",
    "  \n",
    "  def __call__(self, x):\n",
    "    return self.activation(x)\n",
    "  \n",
    "  def activation(self, x):\n",
    "    e_x = np.exp(x - np.max(x, axis = -1, keepdims=True))\n",
    "    return e_x / np.sum(e_x, axis=-1, keepdims = True)\n",
    "  \n",
    "  def gradient(self, x):\n",
    "    # Error was in our softmax\n",
    "    p = self.activation(x)\n",
    "    return p * (1 - p)"
   ]
  },
  {
   "cell_type": "code",
   "execution_count": 49,
   "id": "9338d662",
   "metadata": {},
   "outputs": [],
   "source": [
    "class Activation():\n",
    "  def __init__(self, activation, name=\"activation\"):\n",
    "    self.activation = activation\n",
    "    self.gradient = activation.gradient\n",
    "    self.input = None\n",
    "    self.output = None\n",
    "    self.name = name\n",
    "  \n",
    "  def forward(self, x):\n",
    "    self.input = x\n",
    "    self.output = self.activation(x)\n",
    "    return self.output\n",
    "  \n",
    "  def backward(self, output_error, lr = 0.01):\n",
    "    return self.gradient(self.input) * output_error\n",
    "  \n",
    "  def __call__(self, x):\n",
    "    return self.forward(x)"
   ]
  },
  {
   "cell_type": "code",
   "execution_count": 50,
   "id": "887c1553",
   "metadata": {},
   "outputs": [],
   "source": [
    "class Linear():\n",
    "  def __init__(self, n_in, n_out, name=\"linear\"):\n",
    "    limit = 1 / np.sqrt(n_in)\n",
    "    self.W = np.random.uniform(-limit, limit, (n_in, n_out))\n",
    "    self.b = np.zeros((1, n_out)) # Biases\n",
    "    self.input = None\n",
    "    self.output = None\n",
    "    self.name = name\n",
    "  \n",
    "  def forward(self, x):\n",
    "    self.input = x\n",
    "    self.output = np.dot(self.input, self.W) + self.b # Wx + b\n",
    "    return self.output\n",
    "  \n",
    "  def backward(self, output_error, lr = 0.01):\n",
    "    input_error = np.dot(output_error, self.W.T)\n",
    "    delta = np.dot(self.input.T, output_error) # Calculate the weights error\n",
    "\n",
    "    # Usually, we would allow an optimizer function to update the weights\n",
    "    # but here, we just use simple SGD\n",
    "    self.W -= lr * delta\n",
    "    self.b -= lr * np.mean(output_error)\n",
    "    # We updated the weights below\n",
    "    return input_error\n",
    "  \n",
    "  def __call__(self, x):\n",
    "    return self.forward(x)"
   ]
  },
  {
   "cell_type": "code",
   "execution_count": 53,
   "id": "78373301",
   "metadata": {},
   "outputs": [],
   "source": [
    "class Network():\n",
    "  def __init__(self, input_dim, output_dim, lr=0.01):\n",
    "    # input_dim = 784, output_dim = 10 for mnist\n",
    "    self.layers = [\n",
    "                   Linear(input_dim, 256, name=\"input\"),\n",
    "                   Activation(LeakyReLU(), name=\"relu1\"),\n",
    "                   Linear(256, 128, name=\"input\"),\n",
    "                   Activation(LeakyReLU(), name=\"relu2\"),\n",
    "                   Linear(128, 64, name=\"input\"),\n",
    "                   Activation(LeakyReLU(), name=\"relu3\"),\n",
    "                   Linear(64, 32, name=\"input\"),\n",
    "                   Activation(LeakyReLU(), name=\"relu4\"),\n",
    "                   Linear(32, output_dim, name=\"output\"),\n",
    "                   Activation(Softmax(), name=\"softmax\")\n",
    "    ]\n",
    "    self.lr = lr\n",
    "  \n",
    "  def forward(self, x):\n",
    "    for layer in self.layers:\n",
    "      x = layer(x)\n",
    "    return x\n",
    "  \n",
    "  def backward(self, loss_grad):\n",
    "    for layer in reversed(self.layers):\n",
    "      loss_grad = layer.backward(loss_grad, self.lr)\n",
    "    # Iterating backwards through the layers\n",
    "  \n",
    "  def __call__(self, x):\n",
    "    return self.forward(x)"
   ]
  },
  {
   "cell_type": "code",
   "execution_count": 52,
   "id": "acab3a6c",
   "metadata": {},
   "outputs": [],
   "source": [
    "criterion = CrossEntropy()\n",
    "model = Network(n_input_dim, n_out, lr=5e-3)"
   ]
  },
  {
   "cell_type": "code",
   "execution_count": 54,
   "id": "d934af9d",
   "metadata": {},
   "outputs": [
    {
     "name": "stdout",
     "output_type": "stream",
     "text": [
      "Epoch 1, Loss: 0.15201838224261602, Acc: 0.6911823248407644\n",
      "Epoch 2, Loss: 0.05236589778856246, Acc: 0.9037619426751592\n",
      "Epoch 3, Loss: 0.036467539172793474, Acc: 0.9360071656050956\n",
      "Epoch 4, Loss: 0.026101483619025558, Acc: 0.9560111464968153\n",
      "Epoch 5, Loss: 0.019684166703774396, Acc: 0.9662619426751592\n",
      "Epoch 6, Loss: 0.014724807805630286, Acc: 0.9751194267515924\n",
      "Epoch 7, Loss: 0.06626755116404119, Acc: 0.9124203821656051\n",
      "Epoch 8, Loss: 0.01849086290574445, Acc: 0.9675557324840764\n",
      "Epoch 9, Loss: 0.010489583259168853, Acc: 0.9838773885350318\n",
      "Epoch 10, Loss: 0.006709340446389125, Acc: 0.990047770700637\n"
     ]
    }
   ],
   "source": [
    "EPOCHS = 10\n",
    "loss_tracker=list()\n",
    "\n",
    "for epoch in range(EPOCHS):\n",
    "  loss = []\n",
    "  acc = []\n",
    "  for x_batch, y_batch in batch_loader(X_train, y_train):\n",
    "    out = model(x_batch) # Forward pass\n",
    "    loss.append(np.mean(criterion.loss(y_batch, out))) # Loss - for display\n",
    "    # We just passed the inputs incorrectly.\n",
    "    acc.append(accuracy(np.argmax(y_batch, axis=1), np.argmax(out, axis=1))) # Accuracy - FOr display\n",
    "    error = criterion.gradient(y_batch, out) # Calculate gradient of loss\n",
    "    model.backward(error) # Backpropagation\n",
    "    loss_tracker.append(np.mean(loss))\n",
    "  \n",
    "  print(f\"Epoch {epoch + 1}, Loss: {np.mean(loss)}, Acc: {np.mean(acc)}\")"
   ]
  },
  {
   "cell_type": "code",
   "execution_count": 55,
   "id": "d9a7ad88",
   "metadata": {},
   "outputs": [
    {
     "data": {
      "image/png": "[encoded data removed]",
      "text/plain": [
       "<Figure size 432x288 with 1 Axes>"
      ]
     },
     "metadata": {
      "needs_background": "light"
     },
     "output_type": "display_data"
    }
   ],
   "source": [
    "plt.plot(loss_tracker)\n",
    "plt.show()"
   ]
  },
  {
   "cell_type": "code",
   "execution_count": 56,
   "id": "98512834",
   "metadata": {},
   "outputs": [
    {
     "data": {
      "text/plain": [
       "0.9421166666666667"
      ]
     },
     "execution_count": 56,
     "metadata": {},
     "output_type": "execute_result"
    }
   ],
   "source": [
    "out = model(X_test) # Now we run the model on the test set\n",
    "accuracy(np.argmax(y_test, axis=1), np.argmax(out, axis=1)) "
   ]
  },
  {
   "cell_type": "code",
   "execution_count": 57,
   "id": "6f40fae8",
   "metadata": {},
   "outputs": [
    {
     "name": "stdout",
     "output_type": "stream",
     "text": [
      "4\n"
     ]
    }
   ],
   "source": [
    "prediction=model(X_test[2500])\n",
    "a = np.argmax(prediction, axis=1)\n",
    "print(int(a))"
   ]
  },
  {
   "cell_type": "code",
   "execution_count": 58,
   "id": "c36e4551",
   "metadata": {},
   "outputs": [
    {
     "data": {
      "text/plain": [
       "<matplotlib.image.AxesImage at 0x164ca2899d0>"
      ]
     },
     "execution_count": 58,
     "metadata": {},
     "output_type": "execute_result"
    },
    {
     "data": {
      "image/png": "[encoded data removed]",
      "text/plain": [
       "<Figure size 432x288 with 1 Axes>"
      ]
     },
     "metadata": {
      "needs_background": "light"
     },
     "output_type": "display_data"
    }
   ],
   "source": [
    "a=X_test[2500]\n",
    "image_array = np.asfarray(a).reshape((28,28))\n",
    "matplotlib.pyplot.imshow(image_array, cmap='Reds', interpolation='None')"
   ]
  },
  {
   "cell_type": "code",
   "execution_count": 59,
   "id": "73c2c697",
   "metadata": {},
   "outputs": [
    {
     "name": "stdout",
     "output_type": "stream",
     "text": [
      "7\n"
     ]
    }
   ],
   "source": [
    "prediction=model(X_test[4000])\n",
    "a = np.argmax(prediction, axis=1)\n",
    "print(int(a))"
   ]
  },
  {
   "cell_type": "code",
   "execution_count": 60,
   "id": "af68d0d6",
   "metadata": {},
   "outputs": [
    {
     "data": {
      "text/plain": [
       "<matplotlib.image.AxesImage at 0x164ca790790>"
      ]
     },
     "execution_count": 60,
     "metadata": {},
     "output_type": "execute_result"
    },
    {
     "data": {
      "image/png": "[encoded data removed]",
      "text/plain": [
       "<Figure size 432x288 with 1 Axes>"
      ]
     },
     "metadata": {
      "needs_background": "light"
     },
     "output_type": "display_data"
    }
   ],
   "source": [
    "a=X_test[4000]\n",
    "image_array = np.asfarray(a).reshape((28,28))\n",
    "matplotlib.pyplot.imshow(image_array, cmap='Reds', interpolation='None')"
   ]
  },
  {
   "cell_type": "code",
   "execution_count": null,
   "id": "d4654e61",
   "metadata": {},
   "outputs": [],
   "source": []
  }
 ],
 "metadata": {
  "kernelspec": {
   "display_name": "Python 3 (ipykernel)",
   "language": "python",
   "name": "python3"
  },
  "language_info": {
   "codemirror_mode": {
    "name": "ipython",
    "version": 3
   },
   "file_extension": ".py",
   "mimetype": "text/x-python",
   "name": "python",
   "nbconvert_exporter": "python",
   "pygments_lexer": "ipython3",
   "version": "3.9.12"
  }
 },
 "nbformat": 4,
 "nbformat_minor": 5
}
